{
 "cells": [
  {
   "cell_type": "markdown",
   "id": "baa2d43d",
   "metadata": {},
   "source": [
    "# Unit 3 Project - Exploratory Data Analysis"
   ]
  },
  {
   "cell_type": "markdown",
   "id": "9a087192",
   "metadata": {},
   "source": [
    "## Part 1 - Univariate Analysis - Visualization"
   ]
  },
  {
   "cell_type": "markdown",
   "id": "cd658876",
   "metadata": {},
   "source": [
    "### Step 1 - Open Jupyter Notebook in New Virtual Environment"
   ]
  },
  {
   "cell_type": "markdown",
   "id": "40926806",
   "metadata": {},
   "source": [
    "###### This step should have been completed prior to opening the Jupyter Notebook. If it was not, create and activate your virtual environment, then restart your notebook within the venv. "
   ]
  },
  {
   "cell_type": "markdown",
   "id": "0f4e500c",
   "metadata": {},
   "source": [
    "### Step 2 - Load DataFrame and Explore Dataset"
   ]
  },
  {
   "cell_type": "code",
   "execution_count": 1,
   "id": "b19e33b1",
   "metadata": {},
   "outputs": [],
   "source": [
    "import pandas as pd\n",
    "import numpy as np"
   ]
  },
  {
   "cell_type": "code",
   "execution_count": 2,
   "id": "9d6ad281",
   "metadata": {},
   "outputs": [
    {
     "ename": "FileNotFoundError",
     "evalue": "[Errno 2] No such file or directory: 'salary.csv'",
     "output_type": "error",
     "traceback": [
      "\u001b[1;31m---------------------------------------------------------------------------\u001b[0m",
      "\u001b[1;31mFileNotFoundError\u001b[0m                         Traceback (most recent call last)",
      "Cell \u001b[1;32mIn[2], line 1\u001b[0m\n\u001b[1;32m----> 1\u001b[0m df \u001b[38;5;241m=\u001b[39m \u001b[43mpd\u001b[49m\u001b[38;5;241;43m.\u001b[39;49m\u001b[43mread_csv\u001b[49m\u001b[43m(\u001b[49m\u001b[38;5;124;43m'\u001b[39;49m\u001b[38;5;124;43msalary.csv\u001b[39;49m\u001b[38;5;124;43m'\u001b[39;49m\u001b[43m)\u001b[49m\n",
      "File \u001b[1;32m~\\anaconda3\\lib\\site-packages\\pandas\\util\\_decorators.py:211\u001b[0m, in \u001b[0;36mdeprecate_kwarg.<locals>._deprecate_kwarg.<locals>.wrapper\u001b[1;34m(*args, **kwargs)\u001b[0m\n\u001b[0;32m    209\u001b[0m     \u001b[38;5;28;01melse\u001b[39;00m:\n\u001b[0;32m    210\u001b[0m         kwargs[new_arg_name] \u001b[38;5;241m=\u001b[39m new_arg_value\n\u001b[1;32m--> 211\u001b[0m \u001b[38;5;28;01mreturn\u001b[39;00m func(\u001b[38;5;241m*\u001b[39margs, \u001b[38;5;241m*\u001b[39m\u001b[38;5;241m*\u001b[39mkwargs)\n",
      "File \u001b[1;32m~\\anaconda3\\lib\\site-packages\\pandas\\util\\_decorators.py:331\u001b[0m, in \u001b[0;36mdeprecate_nonkeyword_arguments.<locals>.decorate.<locals>.wrapper\u001b[1;34m(*args, **kwargs)\u001b[0m\n\u001b[0;32m    325\u001b[0m \u001b[38;5;28;01mif\u001b[39;00m \u001b[38;5;28mlen\u001b[39m(args) \u001b[38;5;241m>\u001b[39m num_allow_args:\n\u001b[0;32m    326\u001b[0m     warnings\u001b[38;5;241m.\u001b[39mwarn(\n\u001b[0;32m    327\u001b[0m         msg\u001b[38;5;241m.\u001b[39mformat(arguments\u001b[38;5;241m=\u001b[39m_format_argument_list(allow_args)),\n\u001b[0;32m    328\u001b[0m         \u001b[38;5;167;01mFutureWarning\u001b[39;00m,\n\u001b[0;32m    329\u001b[0m         stacklevel\u001b[38;5;241m=\u001b[39mfind_stack_level(),\n\u001b[0;32m    330\u001b[0m     )\n\u001b[1;32m--> 331\u001b[0m \u001b[38;5;28;01mreturn\u001b[39;00m func(\u001b[38;5;241m*\u001b[39margs, \u001b[38;5;241m*\u001b[39m\u001b[38;5;241m*\u001b[39mkwargs)\n",
      "File \u001b[1;32m~\\anaconda3\\lib\\site-packages\\pandas\\io\\parsers\\readers.py:950\u001b[0m, in \u001b[0;36mread_csv\u001b[1;34m(filepath_or_buffer, sep, delimiter, header, names, index_col, usecols, squeeze, prefix, mangle_dupe_cols, dtype, engine, converters, true_values, false_values, skipinitialspace, skiprows, skipfooter, nrows, na_values, keep_default_na, na_filter, verbose, skip_blank_lines, parse_dates, infer_datetime_format, keep_date_col, date_parser, dayfirst, cache_dates, iterator, chunksize, compression, thousands, decimal, lineterminator, quotechar, quoting, doublequote, escapechar, comment, encoding, encoding_errors, dialect, error_bad_lines, warn_bad_lines, on_bad_lines, delim_whitespace, low_memory, memory_map, float_precision, storage_options)\u001b[0m\n\u001b[0;32m    935\u001b[0m kwds_defaults \u001b[38;5;241m=\u001b[39m _refine_defaults_read(\n\u001b[0;32m    936\u001b[0m     dialect,\n\u001b[0;32m    937\u001b[0m     delimiter,\n\u001b[1;32m   (...)\u001b[0m\n\u001b[0;32m    946\u001b[0m     defaults\u001b[38;5;241m=\u001b[39m{\u001b[38;5;124m\"\u001b[39m\u001b[38;5;124mdelimiter\u001b[39m\u001b[38;5;124m\"\u001b[39m: \u001b[38;5;124m\"\u001b[39m\u001b[38;5;124m,\u001b[39m\u001b[38;5;124m\"\u001b[39m},\n\u001b[0;32m    947\u001b[0m )\n\u001b[0;32m    948\u001b[0m kwds\u001b[38;5;241m.\u001b[39mupdate(kwds_defaults)\n\u001b[1;32m--> 950\u001b[0m \u001b[38;5;28;01mreturn\u001b[39;00m \u001b[43m_read\u001b[49m\u001b[43m(\u001b[49m\u001b[43mfilepath_or_buffer\u001b[49m\u001b[43m,\u001b[49m\u001b[43m \u001b[49m\u001b[43mkwds\u001b[49m\u001b[43m)\u001b[49m\n",
      "File \u001b[1;32m~\\anaconda3\\lib\\site-packages\\pandas\\io\\parsers\\readers.py:605\u001b[0m, in \u001b[0;36m_read\u001b[1;34m(filepath_or_buffer, kwds)\u001b[0m\n\u001b[0;32m    602\u001b[0m _validate_names(kwds\u001b[38;5;241m.\u001b[39mget(\u001b[38;5;124m\"\u001b[39m\u001b[38;5;124mnames\u001b[39m\u001b[38;5;124m\"\u001b[39m, \u001b[38;5;28;01mNone\u001b[39;00m))\n\u001b[0;32m    604\u001b[0m \u001b[38;5;66;03m# Create the parser.\u001b[39;00m\n\u001b[1;32m--> 605\u001b[0m parser \u001b[38;5;241m=\u001b[39m TextFileReader(filepath_or_buffer, \u001b[38;5;241m*\u001b[39m\u001b[38;5;241m*\u001b[39mkwds)\n\u001b[0;32m    607\u001b[0m \u001b[38;5;28;01mif\u001b[39;00m chunksize \u001b[38;5;129;01mor\u001b[39;00m iterator:\n\u001b[0;32m    608\u001b[0m     \u001b[38;5;28;01mreturn\u001b[39;00m parser\n",
      "File \u001b[1;32m~\\anaconda3\\lib\\site-packages\\pandas\\io\\parsers\\readers.py:1442\u001b[0m, in \u001b[0;36mTextFileReader.__init__\u001b[1;34m(self, f, engine, **kwds)\u001b[0m\n\u001b[0;32m   1439\u001b[0m     \u001b[38;5;28mself\u001b[39m\u001b[38;5;241m.\u001b[39moptions[\u001b[38;5;124m\"\u001b[39m\u001b[38;5;124mhas_index_names\u001b[39m\u001b[38;5;124m\"\u001b[39m] \u001b[38;5;241m=\u001b[39m kwds[\u001b[38;5;124m\"\u001b[39m\u001b[38;5;124mhas_index_names\u001b[39m\u001b[38;5;124m\"\u001b[39m]\n\u001b[0;32m   1441\u001b[0m \u001b[38;5;28mself\u001b[39m\u001b[38;5;241m.\u001b[39mhandles: IOHandles \u001b[38;5;241m|\u001b[39m \u001b[38;5;28;01mNone\u001b[39;00m \u001b[38;5;241m=\u001b[39m \u001b[38;5;28;01mNone\u001b[39;00m\n\u001b[1;32m-> 1442\u001b[0m \u001b[38;5;28mself\u001b[39m\u001b[38;5;241m.\u001b[39m_engine \u001b[38;5;241m=\u001b[39m \u001b[38;5;28;43mself\u001b[39;49m\u001b[38;5;241;43m.\u001b[39;49m\u001b[43m_make_engine\u001b[49m\u001b[43m(\u001b[49m\u001b[43mf\u001b[49m\u001b[43m,\u001b[49m\u001b[43m \u001b[49m\u001b[38;5;28;43mself\u001b[39;49m\u001b[38;5;241;43m.\u001b[39;49m\u001b[43mengine\u001b[49m\u001b[43m)\u001b[49m\n",
      "File \u001b[1;32m~\\anaconda3\\lib\\site-packages\\pandas\\io\\parsers\\readers.py:1735\u001b[0m, in \u001b[0;36mTextFileReader._make_engine\u001b[1;34m(self, f, engine)\u001b[0m\n\u001b[0;32m   1733\u001b[0m     \u001b[38;5;28;01mif\u001b[39;00m \u001b[38;5;124m\"\u001b[39m\u001b[38;5;124mb\u001b[39m\u001b[38;5;124m\"\u001b[39m \u001b[38;5;129;01mnot\u001b[39;00m \u001b[38;5;129;01min\u001b[39;00m mode:\n\u001b[0;32m   1734\u001b[0m         mode \u001b[38;5;241m+\u001b[39m\u001b[38;5;241m=\u001b[39m \u001b[38;5;124m\"\u001b[39m\u001b[38;5;124mb\u001b[39m\u001b[38;5;124m\"\u001b[39m\n\u001b[1;32m-> 1735\u001b[0m \u001b[38;5;28mself\u001b[39m\u001b[38;5;241m.\u001b[39mhandles \u001b[38;5;241m=\u001b[39m \u001b[43mget_handle\u001b[49m\u001b[43m(\u001b[49m\n\u001b[0;32m   1736\u001b[0m \u001b[43m    \u001b[49m\u001b[43mf\u001b[49m\u001b[43m,\u001b[49m\n\u001b[0;32m   1737\u001b[0m \u001b[43m    \u001b[49m\u001b[43mmode\u001b[49m\u001b[43m,\u001b[49m\n\u001b[0;32m   1738\u001b[0m \u001b[43m    \u001b[49m\u001b[43mencoding\u001b[49m\u001b[38;5;241;43m=\u001b[39;49m\u001b[38;5;28;43mself\u001b[39;49m\u001b[38;5;241;43m.\u001b[39;49m\u001b[43moptions\u001b[49m\u001b[38;5;241;43m.\u001b[39;49m\u001b[43mget\u001b[49m\u001b[43m(\u001b[49m\u001b[38;5;124;43m\"\u001b[39;49m\u001b[38;5;124;43mencoding\u001b[39;49m\u001b[38;5;124;43m\"\u001b[39;49m\u001b[43m,\u001b[49m\u001b[43m \u001b[49m\u001b[38;5;28;43;01mNone\u001b[39;49;00m\u001b[43m)\u001b[49m\u001b[43m,\u001b[49m\n\u001b[0;32m   1739\u001b[0m \u001b[43m    \u001b[49m\u001b[43mcompression\u001b[49m\u001b[38;5;241;43m=\u001b[39;49m\u001b[38;5;28;43mself\u001b[39;49m\u001b[38;5;241;43m.\u001b[39;49m\u001b[43moptions\u001b[49m\u001b[38;5;241;43m.\u001b[39;49m\u001b[43mget\u001b[49m\u001b[43m(\u001b[49m\u001b[38;5;124;43m\"\u001b[39;49m\u001b[38;5;124;43mcompression\u001b[39;49m\u001b[38;5;124;43m\"\u001b[39;49m\u001b[43m,\u001b[49m\u001b[43m \u001b[49m\u001b[38;5;28;43;01mNone\u001b[39;49;00m\u001b[43m)\u001b[49m\u001b[43m,\u001b[49m\n\u001b[0;32m   1740\u001b[0m \u001b[43m    \u001b[49m\u001b[43mmemory_map\u001b[49m\u001b[38;5;241;43m=\u001b[39;49m\u001b[38;5;28;43mself\u001b[39;49m\u001b[38;5;241;43m.\u001b[39;49m\u001b[43moptions\u001b[49m\u001b[38;5;241;43m.\u001b[39;49m\u001b[43mget\u001b[49m\u001b[43m(\u001b[49m\u001b[38;5;124;43m\"\u001b[39;49m\u001b[38;5;124;43mmemory_map\u001b[39;49m\u001b[38;5;124;43m\"\u001b[39;49m\u001b[43m,\u001b[49m\u001b[43m \u001b[49m\u001b[38;5;28;43;01mFalse\u001b[39;49;00m\u001b[43m)\u001b[49m\u001b[43m,\u001b[49m\n\u001b[0;32m   1741\u001b[0m \u001b[43m    \u001b[49m\u001b[43mis_text\u001b[49m\u001b[38;5;241;43m=\u001b[39;49m\u001b[43mis_text\u001b[49m\u001b[43m,\u001b[49m\n\u001b[0;32m   1742\u001b[0m \u001b[43m    \u001b[49m\u001b[43merrors\u001b[49m\u001b[38;5;241;43m=\u001b[39;49m\u001b[38;5;28;43mself\u001b[39;49m\u001b[38;5;241;43m.\u001b[39;49m\u001b[43moptions\u001b[49m\u001b[38;5;241;43m.\u001b[39;49m\u001b[43mget\u001b[49m\u001b[43m(\u001b[49m\u001b[38;5;124;43m\"\u001b[39;49m\u001b[38;5;124;43mencoding_errors\u001b[39;49m\u001b[38;5;124;43m\"\u001b[39;49m\u001b[43m,\u001b[49m\u001b[43m \u001b[49m\u001b[38;5;124;43m\"\u001b[39;49m\u001b[38;5;124;43mstrict\u001b[39;49m\u001b[38;5;124;43m\"\u001b[39;49m\u001b[43m)\u001b[49m\u001b[43m,\u001b[49m\n\u001b[0;32m   1743\u001b[0m \u001b[43m    \u001b[49m\u001b[43mstorage_options\u001b[49m\u001b[38;5;241;43m=\u001b[39;49m\u001b[38;5;28;43mself\u001b[39;49m\u001b[38;5;241;43m.\u001b[39;49m\u001b[43moptions\u001b[49m\u001b[38;5;241;43m.\u001b[39;49m\u001b[43mget\u001b[49m\u001b[43m(\u001b[49m\u001b[38;5;124;43m\"\u001b[39;49m\u001b[38;5;124;43mstorage_options\u001b[39;49m\u001b[38;5;124;43m\"\u001b[39;49m\u001b[43m,\u001b[49m\u001b[43m \u001b[49m\u001b[38;5;28;43;01mNone\u001b[39;49;00m\u001b[43m)\u001b[49m\u001b[43m,\u001b[49m\n\u001b[0;32m   1744\u001b[0m \u001b[43m\u001b[49m\u001b[43m)\u001b[49m\n\u001b[0;32m   1745\u001b[0m \u001b[38;5;28;01massert\u001b[39;00m \u001b[38;5;28mself\u001b[39m\u001b[38;5;241m.\u001b[39mhandles \u001b[38;5;129;01mis\u001b[39;00m \u001b[38;5;129;01mnot\u001b[39;00m \u001b[38;5;28;01mNone\u001b[39;00m\n\u001b[0;32m   1746\u001b[0m f \u001b[38;5;241m=\u001b[39m \u001b[38;5;28mself\u001b[39m\u001b[38;5;241m.\u001b[39mhandles\u001b[38;5;241m.\u001b[39mhandle\n",
      "File \u001b[1;32m~\\anaconda3\\lib\\site-packages\\pandas\\io\\common.py:856\u001b[0m, in \u001b[0;36mget_handle\u001b[1;34m(path_or_buf, mode, encoding, compression, memory_map, is_text, errors, storage_options)\u001b[0m\n\u001b[0;32m    851\u001b[0m \u001b[38;5;28;01melif\u001b[39;00m \u001b[38;5;28misinstance\u001b[39m(handle, \u001b[38;5;28mstr\u001b[39m):\n\u001b[0;32m    852\u001b[0m     \u001b[38;5;66;03m# Check whether the filename is to be opened in binary mode.\u001b[39;00m\n\u001b[0;32m    853\u001b[0m     \u001b[38;5;66;03m# Binary mode does not support 'encoding' and 'newline'.\u001b[39;00m\n\u001b[0;32m    854\u001b[0m     \u001b[38;5;28;01mif\u001b[39;00m ioargs\u001b[38;5;241m.\u001b[39mencoding \u001b[38;5;129;01mand\u001b[39;00m \u001b[38;5;124m\"\u001b[39m\u001b[38;5;124mb\u001b[39m\u001b[38;5;124m\"\u001b[39m \u001b[38;5;129;01mnot\u001b[39;00m \u001b[38;5;129;01min\u001b[39;00m ioargs\u001b[38;5;241m.\u001b[39mmode:\n\u001b[0;32m    855\u001b[0m         \u001b[38;5;66;03m# Encoding\u001b[39;00m\n\u001b[1;32m--> 856\u001b[0m         handle \u001b[38;5;241m=\u001b[39m \u001b[38;5;28;43mopen\u001b[39;49m\u001b[43m(\u001b[49m\n\u001b[0;32m    857\u001b[0m \u001b[43m            \u001b[49m\u001b[43mhandle\u001b[49m\u001b[43m,\u001b[49m\n\u001b[0;32m    858\u001b[0m \u001b[43m            \u001b[49m\u001b[43mioargs\u001b[49m\u001b[38;5;241;43m.\u001b[39;49m\u001b[43mmode\u001b[49m\u001b[43m,\u001b[49m\n\u001b[0;32m    859\u001b[0m \u001b[43m            \u001b[49m\u001b[43mencoding\u001b[49m\u001b[38;5;241;43m=\u001b[39;49m\u001b[43mioargs\u001b[49m\u001b[38;5;241;43m.\u001b[39;49m\u001b[43mencoding\u001b[49m\u001b[43m,\u001b[49m\n\u001b[0;32m    860\u001b[0m \u001b[43m            \u001b[49m\u001b[43merrors\u001b[49m\u001b[38;5;241;43m=\u001b[39;49m\u001b[43merrors\u001b[49m\u001b[43m,\u001b[49m\n\u001b[0;32m    861\u001b[0m \u001b[43m            \u001b[49m\u001b[43mnewline\u001b[49m\u001b[38;5;241;43m=\u001b[39;49m\u001b[38;5;124;43m\"\u001b[39;49m\u001b[38;5;124;43m\"\u001b[39;49m\u001b[43m,\u001b[49m\n\u001b[0;32m    862\u001b[0m \u001b[43m        \u001b[49m\u001b[43m)\u001b[49m\n\u001b[0;32m    863\u001b[0m     \u001b[38;5;28;01melse\u001b[39;00m:\n\u001b[0;32m    864\u001b[0m         \u001b[38;5;66;03m# Binary mode\u001b[39;00m\n\u001b[0;32m    865\u001b[0m         handle \u001b[38;5;241m=\u001b[39m \u001b[38;5;28mopen\u001b[39m(handle, ioargs\u001b[38;5;241m.\u001b[39mmode)\n",
      "\u001b[1;31mFileNotFoundError\u001b[0m: [Errno 2] No such file or directory: 'salary.csv'"
     ]
    }
   ],
   "source": [
    "df = pd.read_csv('salary.csv')"
   ]
  },
  {
   "cell_type": "code",
   "execution_count": null,
   "id": "a48c191a",
   "metadata": {},
   "outputs": [],
   "source": [
    "df.head()"
   ]
  },
  {
   "cell_type": "code",
   "execution_count": null,
   "id": "327799c9",
   "metadata": {},
   "outputs": [],
   "source": [
    "df.info()"
   ]
  },
  {
   "cell_type": "markdown",
   "id": "7a9748f6",
   "metadata": {},
   "source": [
    "### Step 3 - Review Types of Basic Univariate Plots"
   ]
  },
  {
   "cell_type": "markdown",
   "id": "88e02be3",
   "metadata": {},
   "source": [
    "- Histogram\n",
    "> explanation\n",
    "- Density Plot / KDE\n",
    "> explanation\n",
    "- Bar Chart\n",
    "> explanation\n",
    "- Line Plot\n",
    "> explanation\n",
    "- Univariate scatter plot\n",
    "> explanation\n",
    "- Violin Plot\n",
    "> explanation\n",
    "- Box Plot\n",
    "> explanation\n",
    "- Pie Chart\n",
    "> explanation\n",
    "- Rug Plot\n",
    "> explanation\n"
   ]
  },
  {
   "cell_type": "markdown",
   "id": "643f91a7",
   "metadata": {},
   "source": [
    "### Step 4 - Choose Which Plot(s) You Will Use for Each Variable"
   ]
  },
  {
   "cell_type": "markdown",
   "id": "82f93c8f",
   "metadata": {},
   "source": [
    "- age\n",
    "> plot\n",
    "- gender\n",
    "> plot\n",
    "- education\n",
    "> plot\n",
    "- industry\n",
    "> plot\n",
    "- industry experience\n",
    "> plot\n",
    "- salary\n",
    "> plot"
   ]
  },
  {
   "cell_type": "markdown",
   "id": "1f60f546",
   "metadata": {},
   "source": [
    "### Step 5 - Create Plots for Each Variable in Dataset"
   ]
  },
  {
   "cell_type": "code",
   "execution_count": null,
   "id": "2104cf8c",
   "metadata": {},
   "outputs": [],
   "source": [
    "import seaborn as sns\n",
    "sns.set()\n",
    "import matplotlib.pyplot as plt\n",
    "%matplotlib inline"
   ]
  },
  {
   "cell_type": "markdown",
   "id": "ff6feb62",
   "metadata": {},
   "source": [
    "### Plot for 'age' column"
   ]
  },
  {
   "cell_type": "code",
   "execution_count": null,
   "id": "32d5f3e6",
   "metadata": {
    "scrolled": false
   },
   "outputs": [],
   "source": [
    "# sets figure size\n",
    "plt.figure(figsize=(12,6))\n",
    "\n",
    "# establishes figure with data and plot type\n",
    "ax = sns.histplot(data=df, x='age', palette=\"viridis\", bins=8)\n",
    "\n",
    "# sets x and y labels\n",
    "plt.xlabel(\"Age\", fontsize=14)\n",
    "plt.ylabel(\"Number of Managers\", fontsize=14)\n",
    "\n",
    "# sets title\n",
    "plt.title(\"Distribution of Manager Ages in Survey\", fontsize=15);"
   ]
  },
  {
   "cell_type": "code",
   "execution_count": null,
   "id": "2cf0116b",
   "metadata": {},
   "outputs": [],
   "source": [
    "plt.figure(figsize=(12,6))\n",
    "\n",
    "sns.violinplot(x=df['age'])\n",
    "\n",
    "plt.xlabel(\"Age\", fontsize=14)\n",
    "plt.title(\"Density of Manager Ages\");"
   ]
  },
  {
   "cell_type": "markdown",
   "id": "91b9a16c",
   "metadata": {},
   "source": [
    "##### Insights:\n",
    "\n",
    "[fill in with your observations from the visualization]"
   ]
  },
  {
   "cell_type": "markdown",
   "id": "8a7eb9f7",
   "metadata": {},
   "source": [
    "### Plot for 'industry' column"
   ]
  },
  {
   "cell_type": "code",
   "execution_count": null,
   "id": "8e42ae95",
   "metadata": {},
   "outputs": [],
   "source": [
    "plt.figure(figsize=(12,6))\n",
    "\n",
    "ax = sns.countplot(data=df, x='industry',palette=\"icefire\")\n",
    "\n",
    "plt.xticks(rotation=90)\n",
    "plt.xlabel(\"Industry\", fontsize=13)\n",
    "plt.ylabel(\"Number of Managers in Industry\", fontsize=13)\n",
    "plt.title(\"Industries in Survey\", fontsize=15);"
   ]
  },
  {
   "cell_type": "markdown",
   "id": "3c42c49c",
   "metadata": {},
   "source": [
    "##### Insights:\n",
    "\n",
    "[fill in obserevations from graph]"
   ]
  },
  {
   "cell_type": "markdown",
   "id": "d377bb4b",
   "metadata": {},
   "source": [
    "### Plot for 'salary' column"
   ]
  },
  {
   "cell_type": "code",
   "execution_count": null,
   "id": "249f87db",
   "metadata": {},
   "outputs": [],
   "source": [
    "sns.displot(data = df, x = 'salary', kind = 'hist', bins=30)\n",
    "\n",
    "plt.xlabel(\"Salary\", fontsize=14)\n",
    "plt.ylabel(\"Count\", fontsize=14)\n",
    "plt.title(\"Distribution of Salary Among Managers\", fontsize=14);"
   ]
  },
  {
   "cell_type": "code",
   "execution_count": null,
   "id": "ed099711",
   "metadata": {},
   "outputs": [],
   "source": [
    "sns.displot(data = df, x = 'salary', kind = 'kde')\n",
    "\n",
    "plt.xlabel(\"Salary\", fontsize=14)\n",
    "plt.ylabel(\"Density\", fontsize=14)\n",
    "plt.title(\"Distribution of Salary Among Managers\", fontsize=16);"
   ]
  },
  {
   "cell_type": "code",
   "execution_count": null,
   "id": "3459c80a",
   "metadata": {},
   "outputs": [],
   "source": [
    "sns.displot(data = df, x = 'salary', kde = True, palette=\"Greens\", edgecolor=\"black\", bins=25, line_kws={\"linewidth\":2})\n",
    "\n",
    "plt.xlabel(\"Salary\", fontsize=14)\n",
    "plt.ylabel(\"Count\", fontsize=14)\n",
    "plt.title(\"Distribution of Salary Among Managers\", fontsize=16);"
   ]
  },
  {
   "cell_type": "code",
   "execution_count": null,
   "id": "5c58c8a8",
   "metadata": {},
   "outputs": [],
   "source": [
    "plt.figure(figsize=(12,6))\n",
    "\n",
    "sns.violinplot(x=df['salary'])\n",
    "\n",
    "plt.xlabel(\"Salary\", fontsize=14)\n",
    "plt.title(\"Density of Manager Salaries\");"
   ]
  },
  {
   "cell_type": "markdown",
   "id": "007c1a63",
   "metadata": {},
   "source": [
    "##### Insights:\n",
    "\n",
    "[fill in with your observations from the visualizations]"
   ]
  },
  {
   "cell_type": "markdown",
   "id": "7306d6d7",
   "metadata": {},
   "source": [
    "### Plot for 'industry_experience' column"
   ]
  },
  {
   "cell_type": "code",
   "execution_count": null,
   "id": "59d08e86",
   "metadata": {},
   "outputs": [],
   "source": [
    "plt.figure(figsize=(12,6))\n",
    "\n",
    "ax = sns.histplot(data=df, x='industry_experience', bins=20)\n",
    "\n",
    "plt.xlabel(\"Industry Experience \", fontsize=13)\n",
    "plt.ylabel(\"Number of Managers\", fontsize=13)\n",
    "plt.title(\"Industry Experience Among Managers\", fontsize=16);"
   ]
  },
  {
   "cell_type": "markdown",
   "id": "029da89d",
   "metadata": {},
   "source": [
    "##### Insights:\n",
    "\n",
    "[fill in with your observations from the visualization]"
   ]
  },
  {
   "cell_type": "markdown",
   "id": "c29d3747",
   "metadata": {},
   "source": [
    "### Plot for 'education' column"
   ]
  },
  {
   "cell_type": "code",
   "execution_count": null,
   "id": "e404b401",
   "metadata": {},
   "outputs": [],
   "source": [
    "df['education'].value_counts()"
   ]
  },
  {
   "cell_type": "code",
   "execution_count": null,
   "id": "949e6d26",
   "metadata": {},
   "outputs": [],
   "source": [
    "plt.figure(figsize=(10,10))\n",
    "\n",
    "data = df['education'].value_counts()\n",
    "\n",
    "labels = [\"Bachelor's Degree\", \"Master's Degree\", \"Some College\", \"High School\"]\n",
    "\n",
    "colors = sns.color_palette('Accent')\n",
    "\n",
    "plt.title(\"Manager's Education Levels\", fontsize=16)\n",
    "\n",
    "ax = plt.pie(data, colors = colors, labels = labels, autopct = '%.0f%%');"
   ]
  },
  {
   "cell_type": "markdown",
   "id": "643cb6f5",
   "metadata": {},
   "source": [
    "##### Insights:\n",
    "\n",
    "[fill in obserevations from graph]"
   ]
  },
  {
   "cell_type": "markdown",
   "id": "2644e3f4",
   "metadata": {},
   "source": [
    "### Plot for 'gender' column"
   ]
  },
  {
   "cell_type": "code",
   "execution_count": null,
   "id": "75efb5bf",
   "metadata": {
    "scrolled": false
   },
   "outputs": [],
   "source": [
    "df['gender'].value_counts()"
   ]
  },
  {
   "cell_type": "code",
   "execution_count": null,
   "id": "1ce546d1",
   "metadata": {},
   "outputs": [],
   "source": [
    "plt.figure(figsize=(10,10))\n",
    "\n",
    "data = df['gender'].value_counts()\n",
    "\n",
    "labels = ['Male', 'Female']\n",
    "\n",
    "colors = sns.color_palette('rainbow')\n",
    "\n",
    "ax = plt.pie(data, colors=colors, labels=labels, autopct='%.0f%%');"
   ]
  },
  {
   "cell_type": "markdown",
   "id": "aafd3de1",
   "metadata": {},
   "source": [
    "##### Insights:\n",
    "\n",
    "[fill in with your observations from the visualization]"
   ]
  },
  {
   "cell_type": "markdown",
   "id": "26bbf342",
   "metadata": {},
   "source": [
    "## Part 2 - Summary Statistics"
   ]
  },
  {
   "cell_type": "markdown",
   "id": "6e8d8bed",
   "metadata": {},
   "source": [
    "### Step 1 - Review Summary Statistics"
   ]
  },
  {
   "cell_type": "markdown",
   "id": "a8397d6c",
   "metadata": {},
   "source": [
    "- mean\n",
    "> explanation\n",
    "- median\n",
    "> explanation\n",
    "- mode\n",
    "> explanation\n",
    "- central tendency\n",
    "> explanation\n",
    "- distribution\n",
    "> explanation\n",
    "- variance\n",
    "> explanation\n",
    "- standard deviation\n",
    "> explanation"
   ]
  },
  {
   "cell_type": "markdown",
   "id": "071813ce",
   "metadata": {},
   "source": [
    "### Step 2 - Find  & Report Summary Statistics For Numeric Variables"
   ]
  },
  {
   "cell_type": "markdown",
   "id": "8fbe124c",
   "metadata": {},
   "source": [
    "#### Age Summary Statistics"
   ]
  },
  {
   "cell_type": "code",
   "execution_count": null,
   "id": "dcfe2a15",
   "metadata": {},
   "outputs": [],
   "source": [
    "df['age'].describe()"
   ]
  },
  {
   "cell_type": "code",
   "execution_count": null,
   "id": "7f9a7b6f",
   "metadata": {},
   "outputs": [],
   "source": [
    "plt.figure(figsize=(12,4))\n",
    "\n",
    "plt.title(\"Age Distribution Among Managers\", fontsize=16)\n",
    "\n",
    "sns.boxplot(x=df['age'])\n",
    "\n",
    "plt.xlabel(\"Manager Age\", fontsize=14);"
   ]
  },
  {
   "cell_type": "markdown",
   "id": "bac0a897",
   "metadata": {},
   "source": [
    "- age **mean**\n",
    "> The mean age is \n",
    "- age **median**\n",
    "> The median age is \n",
    "- age **minimum**\n",
    "> The minimum age is \n",
    "- age **maximum**\n",
    "> The maximum age is \n",
    "- age **standard deviation**\n",
    "> The standard deviation is "
   ]
  },
  {
   "cell_type": "markdown",
   "id": "0cf267f9",
   "metadata": {},
   "source": [
    "###### Reflection: How did mean and median differ above? Why do you think that is?\n",
    "\n",
    "[your answer here]"
   ]
  },
  {
   "cell_type": "markdown",
   "id": "6168d7c8",
   "metadata": {},
   "source": [
    "#### Salary Summary Statistics"
   ]
  },
  {
   "cell_type": "code",
   "execution_count": null,
   "id": "5ec63d65",
   "metadata": {},
   "outputs": [],
   "source": [
    " df['salary'].describe()"
   ]
  },
  {
   "cell_type": "code",
   "execution_count": null,
   "id": "37118ff1",
   "metadata": {
    "scrolled": true
   },
   "outputs": [],
   "source": [
    "plt.figure(figsize=(12,4))\n",
    "\n",
    "plt.title(\"Distribution of Salary Among Managers\", fontsize=16)\n",
    "\n",
    "sns.boxplot(x=df['salary'])\n",
    "\n",
    "plt.xlabel(\"Annual Salary (USD)\", fontsize=14);"
   ]
  },
  {
   "cell_type": "markdown",
   "id": "f7c9ff81",
   "metadata": {},
   "source": [
    "- Salary **mean**\n",
    "> The mean salary is \n",
    "- Salary **median**\n",
    "> The median salary is \n",
    "- Salary **minimum**\n",
    "> The minimum salary is \n",
    "- Salary **maximum**\n",
    "> The maximum salary is \n",
    "- Salary **standard deviation**\n",
    "> The standard deviation is "
   ]
  },
  {
   "cell_type": "markdown",
   "id": "90bbbe7e",
   "metadata": {},
   "source": [
    "###### Reflection: How did mean and median differ above? Why do you think that is?\n",
    "\n",
    "[your answer here]"
   ]
  },
  {
   "cell_type": "markdown",
   "id": "64f1c14a",
   "metadata": {},
   "source": [
    "### Step 3 - Find Salary Summary Statistics By Industry"
   ]
  },
  {
   "cell_type": "code",
   "execution_count": null,
   "id": "c7e92c1d",
   "metadata": {},
   "outputs": [],
   "source": [
    "df['salary'].groupby(df['industry']).describe()"
   ]
  },
  {
   "cell_type": "code",
   "execution_count": null,
   "id": "91d1fa26",
   "metadata": {},
   "outputs": [],
   "source": [
    "df['salary'].groupby(df['industry']).median()"
   ]
  },
  {
   "cell_type": "code",
   "execution_count": null,
   "id": "a364806e",
   "metadata": {},
   "outputs": [],
   "source": [
    "plt.figure(figsize=(12,8))\n",
    "\n",
    "ax = sns.boxplot(data=df, x='industry', y='salary')\n",
    "\n",
    "plt.xlabel(\"Industry\", fontsize=14)\n",
    "plt.ylabel(\"Salary\", fontsize=14)\n",
    "plt.title(\"Distribution of Salaries Across Industries\", fontsize=16);"
   ]
  },
  {
   "cell_type": "markdown",
   "id": "fb0a29d8",
   "metadata": {},
   "source": [
    "##### Insights:\n",
    "\n",
    "[fill in with your observations from the analysis]"
   ]
  },
  {
   "cell_type": "markdown",
   "id": "9f54ff3c",
   "metadata": {},
   "source": [
    "### Step 4 - Find Salary Summary Statistics By Education"
   ]
  },
  {
   "cell_type": "code",
   "execution_count": null,
   "id": "5878a471",
   "metadata": {},
   "outputs": [],
   "source": [
    "df['salary'].groupby(df['education']).describe()"
   ]
  },
  {
   "cell_type": "code",
   "execution_count": null,
   "id": "8c9482fd",
   "metadata": {},
   "outputs": [],
   "source": [
    "df['salary'].groupby(df['education']).median()"
   ]
  },
  {
   "cell_type": "code",
   "execution_count": null,
   "id": "acc802f2",
   "metadata": {},
   "outputs": [],
   "source": [
    "plt.figure(figsize=(12,8))\n",
    "\n",
    "ax = sns.boxplot(data=df, x='education', y='salary')\n",
    "\n",
    "plt.xlabel(\"Education\", fontsize=14)\n",
    "plt.ylabel(\"Salary\", fontsize=14)\n",
    "plt.title(\"Salary Distribution By Education Level\", fontsize=16);"
   ]
  },
  {
   "cell_type": "markdown",
   "id": "5bb88719",
   "metadata": {},
   "source": [
    "##### Insights:\n",
    "\n",
    "[fill in with your observations from the visualization]"
   ]
  },
  {
   "cell_type": "markdown",
   "id": "d90a7570",
   "metadata": {},
   "source": [
    "### Step 5 - Find Salary Summary Statistics by Gender"
   ]
  },
  {
   "cell_type": "code",
   "execution_count": null,
   "id": "5b5cb514",
   "metadata": {},
   "outputs": [],
   "source": [
    "df['salary'].groupby(df['gender']).describe()"
   ]
  },
  {
   "cell_type": "code",
   "execution_count": null,
   "id": "b68b1b2d",
   "metadata": {},
   "outputs": [],
   "source": [
    "df['salary'].groupby(df['gender']).median()"
   ]
  },
  {
   "cell_type": "code",
   "execution_count": null,
   "id": "e5d6b7b6",
   "metadata": {},
   "outputs": [],
   "source": [
    "plt.figure(figsize=(12,8))\n",
    "\n",
    "ax = sns.boxplot(data=df, x='gender', y='salary')\n",
    "\n",
    "plt.xlabel(\"Gender\", fontsize=14)\n",
    "plt.ylabel(\"Salary\", fontsize=14)\n",
    "plt.title(\"Distribution of Salary By Gender\", fontsize=16);"
   ]
  },
  {
   "cell_type": "markdown",
   "id": "beb4f03a",
   "metadata": {},
   "source": [
    "##### Insights:\n",
    "\n",
    "[fill in with your observations from the visualization]"
   ]
  },
  {
   "cell_type": "markdown",
   "id": "f8ba0017",
   "metadata": {},
   "source": [
    "## Part 3 - Looking for Relationships in Data"
   ]
  },
  {
   "cell_type": "markdown",
   "id": "3f336b3c",
   "metadata": {},
   "source": [
    "### Step 1 - Review Useful Tools for Bivariate Relationships"
   ]
  },
  {
   "cell_type": "markdown",
   "id": "ca276bc4",
   "metadata": {},
   "source": [
    "- **Categorical Data**\n",
    "> ***Contingency Table***\n",
    ">\n",
    ">[explanation]\n",
    ">\n",
    "> ***Clustered Bar Chart***\n",
    ">\n",
    ">[explanation]\n",
    "\n",
    "- **Mixed Data**\n",
    "> ***Individual Value Plot***\n",
    ">\n",
    ">[explanation]\n",
    ">\n",
    "> ***Strip Plot***\n",
    ">\n",
    ">[explanation]\n",
    "\n",
    "- **Quantitative Data**\n",
    "> ***Scatter plots***\n",
    ">\n",
    "> [explanation]"
   ]
  },
  {
   "cell_type": "markdown",
   "id": "4291af48",
   "metadata": {},
   "source": [
    "### Step 2 - Create Bivariate Plots & Tables"
   ]
  },
  {
   "cell_type": "markdown",
   "id": "a1026c3b",
   "metadata": {},
   "source": [
    "In the end of Part 2, you began looking at relationships between variables when you created boxplots which visualized the distribution of salary across different categories. In this step, you will make plots and visualizations to begin looking deeper for patterns and relationships between two variables. "
   ]
  },
  {
   "cell_type": "markdown",
   "id": "4cdb8acb",
   "metadata": {},
   "source": [
    "### Use the Pandas Crosstab() function to compare categorical variables"
   ]
  },
  {
   "cell_type": "markdown",
   "id": "1f2325b9",
   "metadata": {},
   "source": [
    "#### crosstab of gender and education"
   ]
  },
  {
   "cell_type": "code",
   "execution_count": null,
   "id": "10c27a5b",
   "metadata": {},
   "outputs": [],
   "source": [
    "pd.crosstab(index=df['gender'], columns=df['education'])"
   ]
  },
  {
   "cell_type": "markdown",
   "id": "41b10043",
   "metadata": {},
   "source": [
    "##### Insights:\n",
    "\n",
    "[fill in with your observations from the visualization]"
   ]
  },
  {
   "cell_type": "markdown",
   "id": "cd5f6bf8",
   "metadata": {},
   "source": [
    "### Strip plot between age and education"
   ]
  },
  {
   "cell_type": "code",
   "execution_count": null,
   "id": "88b9e3b6",
   "metadata": {},
   "outputs": [],
   "source": [
    "plt.figure(figsize=(12,8))\n",
    "\n",
    "ax = sns.stripplot(y=df['age'], x=df['education'])"
   ]
  },
  {
   "cell_type": "markdown",
   "id": "6d5d3c6b",
   "metadata": {},
   "source": [
    "##### Insights:\n",
    "\n",
    "[fill in with your observations from the visualization]"
   ]
  },
  {
   "cell_type": "markdown",
   "id": "1e962141",
   "metadata": {},
   "source": [
    "### Scatterplot for age and salary"
   ]
  },
  {
   "cell_type": "code",
   "execution_count": null,
   "id": "714580a6",
   "metadata": {},
   "outputs": [],
   "source": [
    "sns.scatterplot(x=df['age'], y=df['salary'])"
   ]
  },
  {
   "cell_type": "markdown",
   "id": "30f84d39",
   "metadata": {},
   "source": [
    "##### Insights:\n",
    "\n",
    "[fill in with your observations from the visualization]"
   ]
  },
  {
   "cell_type": "markdown",
   "id": "ec9eed9d",
   "metadata": {},
   "source": [
    "### Scatterplot for industry experience and salary"
   ]
  },
  {
   "cell_type": "code",
   "execution_count": null,
   "id": "4e977c1e",
   "metadata": {
    "scrolled": true
   },
   "outputs": [],
   "source": [
    "sns.scatterplot(x=df['industry_experience'], y=df['salary'])"
   ]
  },
  {
   "cell_type": "markdown",
   "id": "9b0dc883",
   "metadata": {},
   "source": [
    "##### Insights:\n",
    "\n",
    "[fill in with your observations from the visualization]"
   ]
  },
  {
   "cell_type": "markdown",
   "id": "e748463c",
   "metadata": {},
   "source": [
    "### Step 3 - Pick Two More Bivariate Relationships to Visualize"
   ]
  },
  {
   "cell_type": "code",
   "execution_count": null,
   "id": "e36e82c9",
   "metadata": {},
   "outputs": [],
   "source": [
    "################################### TO DO #########################################\n",
    "####### FOLLOW PROJECT INSTRUCTIONS TO COMPLETE THIS STEP IN THE CELLS BELOW ######"
   ]
  },
  {
   "cell_type": "code",
   "execution_count": null,
   "id": "e99d9d85",
   "metadata": {},
   "outputs": [],
   "source": [
    "# create 1st visualization for bivariate relationship of your choice"
   ]
  },
  {
   "cell_type": "code",
   "execution_count": null,
   "id": "6e4f6461",
   "metadata": {},
   "outputs": [],
   "source": [
    "# create 2nd visualization for bivariate relationship of your choice"
   ]
  },
  {
   "cell_type": "markdown",
   "id": "97feb3bb",
   "metadata": {},
   "source": [
    "## Part 4 - Correlation & Hypothesis Testing"
   ]
  },
  {
   "cell_type": "markdown",
   "id": "73116470",
   "metadata": {},
   "source": [
    "### Step 1 - Review Correlation"
   ]
  },
  {
   "cell_type": "code",
   "execution_count": null,
   "id": "31b3e5cb",
   "metadata": {},
   "outputs": [],
   "source": [
    "################################### TO DO #########################################\n",
    "####### FOLLOW PROJECT INSTRUCTIONS TO COMPLETE THIS STEP IN THE CELLS BELOW ######"
   ]
  },
  {
   "cell_type": "markdown",
   "id": "7cc9f053",
   "metadata": {},
   "source": [
    "- **Correlation**\n",
    "> ***explanation***\n",
    "\n",
    "- **Correlation Coefficient**\n",
    ">***explanation***"
   ]
  },
  {
   "cell_type": "markdown",
   "id": "aa458808",
   "metadata": {},
   "source": [
    "### Step 2 - Review Hypothesis Testing & P-Value"
   ]
  },
  {
   "cell_type": "code",
   "execution_count": null,
   "id": "9ef16a28",
   "metadata": {},
   "outputs": [],
   "source": [
    "################################### TO DO #########################################\n",
    "####### FOLLOW PROJECT INSTRUCTIONS TO COMPLETE THIS STEP IN THE CELLS BELOW ######"
   ]
  },
  {
   "cell_type": "markdown",
   "id": "72372aa0",
   "metadata": {},
   "source": [
    "- **Hypothesis**\n",
    "> ***explanation***\n",
    "\n",
    "- **Null Hypothesis**\n",
    "> ***explanation***\n",
    "\n",
    "- **P-Value**\n",
    "> ***explanation***"
   ]
  },
  {
   "cell_type": "markdown",
   "id": "70d87c77",
   "metadata": {},
   "source": [
    "### Step 3 - Use Pearsonr & Spearmanr To Answer Questions About Correlation and P-Values"
   ]
  },
  {
   "cell_type": "markdown",
   "id": "a8eb3063",
   "metadata": {},
   "source": [
    "<h3 style='color:red;'> First, load 'salary_numeric.csv' - where education has been re-expressed as numeric variables.</h3>"
   ]
  },
  {
   "cell_type": "code",
   "execution_count": null,
   "id": "39f2c28a",
   "metadata": {},
   "outputs": [],
   "source": [
    "df = pd.read_csv('salary_numeric.csv')"
   ]
  },
  {
   "cell_type": "code",
   "execution_count": null,
   "id": "e437288d",
   "metadata": {},
   "outputs": [],
   "source": [
    "from scipy.stats import pearsonr, spearmanr"
   ]
  },
  {
   "cell_type": "markdown",
   "id": "5b412a9b",
   "metadata": {},
   "source": [
    "### What is the correlation between salary and education?"
   ]
  },
  {
   "cell_type": "markdown",
   "id": "b5695c8a",
   "metadata": {},
   "source": [
    "Your Hypothesis = "
   ]
  },
  {
   "cell_type": "code",
   "execution_count": null,
   "id": "b92e526e",
   "metadata": {},
   "outputs": [],
   "source": [
    "spearmanr(df['salary'], df['education'])"
   ]
  },
  {
   "cell_type": "markdown",
   "id": "e0b33fa8",
   "metadata": {},
   "source": [
    "There is a moderate positve correlation between education level and salary. "
   ]
  },
  {
   "cell_type": "markdown",
   "id": "0b1ab9f0",
   "metadata": {},
   "source": [
    "#### Are these results statistically significant? How do you know?"
   ]
  },
  {
   "cell_type": "markdown",
   "id": "6dbbbeac",
   "metadata": {},
   "source": [
    "[answer]"
   ]
  },
  {
   "cell_type": "markdown",
   "id": "b6b26913",
   "metadata": {},
   "source": [
    "The correlation is statistically significant because the pvalue is 0. Anything lower than .05 is considered significant."
   ]
  },
  {
   "cell_type": "markdown",
   "id": "a05c6a59",
   "metadata": {},
   "source": [
    "### What is the correlation between salary and age?"
   ]
  },
  {
   "cell_type": "markdown",
   "id": "bd65d66c",
   "metadata": {},
   "source": [
    "Your Hypothesis = "
   ]
  },
  {
   "cell_type": "code",
   "execution_count": null,
   "id": "59cfb7d9",
   "metadata": {},
   "outputs": [],
   "source": [
    "pearsonr(df['salary'], df['age'])"
   ]
  },
  {
   "cell_type": "markdown",
   "id": "6c37d272",
   "metadata": {},
   "source": [
    "[answer]"
   ]
  },
  {
   "cell_type": "markdown",
   "id": "9ddb031a",
   "metadata": {},
   "source": [
    "#### Are these results statistically significant? How do you know? "
   ]
  },
  {
   "cell_type": "markdown",
   "id": "4e0e1e67",
   "metadata": {},
   "source": [
    "[answer]"
   ]
  },
  {
   "cell_type": "markdown",
   "id": "4d0de42f",
   "metadata": {},
   "source": [
    "### What is the correlation between salary and industry experience? "
   ]
  },
  {
   "cell_type": "markdown",
   "id": "a8076452",
   "metadata": {},
   "source": [
    "Your Hypothesis = "
   ]
  },
  {
   "cell_type": "code",
   "execution_count": null,
   "id": "b594af02",
   "metadata": {},
   "outputs": [],
   "source": [
    "spearmanr(df['salary'], df['industry_experience'])"
   ]
  },
  {
   "cell_type": "markdown",
   "id": "1b3ee60a",
   "metadata": {},
   "source": [
    "[answer]"
   ]
  },
  {
   "cell_type": "markdown",
   "id": "bc438c97",
   "metadata": {},
   "source": [
    "#### Are these results statistically significant? How do you know?"
   ]
  },
  {
   "cell_type": "markdown",
   "id": "6414b406",
   "metadata": {},
   "source": [
    "[answer]"
   ]
  },
  {
   "cell_type": "markdown",
   "id": "42594762",
   "metadata": {},
   "source": [
    "### Step 4 - Report Findings"
   ]
  },
  {
   "cell_type": "markdown",
   "id": "bc3d1db6",
   "metadata": {},
   "source": [
    "### What was the null hypothesis for the relationships between education and salary, age and salary, and industry experience and salary?"
   ]
  },
  {
   "cell_type": "markdown",
   "id": "1b0aeec2",
   "metadata": {},
   "source": [
    "[answer]"
   ]
  },
  {
   "cell_type": "markdown",
   "id": "ad7fe6fc",
   "metadata": {},
   "source": [
    "### Can you reject the null hypothesis for any of the relationships you explored above?"
   ]
  },
  {
   "cell_type": "markdown",
   "id": "388dc3b3",
   "metadata": {},
   "source": [
    "[answer]"
   ]
  },
  {
   "cell_type": "markdown",
   "id": "e584db19",
   "metadata": {},
   "source": [
    "## Part 5 - Multivariate Analysis"
   ]
  },
  {
   "cell_type": "markdown",
   "id": "13194851",
   "metadata": {},
   "source": [
    "### Step 1 - Review Types of Multivariate Analysis"
   ]
  },
  {
   "cell_type": "markdown",
   "id": "6044e0dd",
   "metadata": {},
   "source": [
    "#### Fill in the blanks with a brief description of each plot type \n",
    "  \n",
    "- pairplots\n",
    "> [...]\n",
    "- paired scatter plots\n",
    "> [...]\n",
    "- correlation matrix\n",
    "> [...]\n",
    "- heatmap\n",
    "> [...]"
   ]
  },
  {
   "cell_type": "markdown",
   "id": "b661be1d",
   "metadata": {},
   "source": [
    "### Step 2 - Create Pairplots for Dataset"
   ]
  },
  {
   "cell_type": "markdown",
   "id": "ead32e5e",
   "metadata": {},
   "source": [
    "#### pairplot of whole dataframe"
   ]
  },
  {
   "cell_type": "code",
   "execution_count": null,
   "id": "1aebe013",
   "metadata": {},
   "outputs": [],
   "source": [
    "sns.pairplot(df)"
   ]
  },
  {
   "cell_type": "markdown",
   "id": "f7be1281",
   "metadata": {},
   "source": [
    "##### Insights:\n",
    "\n",
    "[fill in with your observations from the visualization]"
   ]
  },
  {
   "cell_type": "markdown",
   "id": "3bc4a804",
   "metadata": {},
   "source": [
    "### Step 3 - Create Other Multivariate Plots"
   ]
  },
  {
   "cell_type": "markdown",
   "id": "75dde479",
   "metadata": {},
   "source": [
    "### Correlation matrix"
   ]
  },
  {
   "cell_type": "code",
   "execution_count": null,
   "id": "01154098",
   "metadata": {},
   "outputs": [],
   "source": [
    "df.corr()"
   ]
  },
  {
   "cell_type": "markdown",
   "id": "dc3253a8",
   "metadata": {},
   "source": [
    "### Heatmap of correlation matrix"
   ]
  },
  {
   "cell_type": "code",
   "execution_count": null,
   "id": "45bd0d02",
   "metadata": {},
   "outputs": [],
   "source": [
    "plt.figure(figsize=(12,8))\n",
    "\n",
    "ax = sns.heatmap(df.corr(), annot=True, cmap='YlGnBu')"
   ]
  },
  {
   "cell_type": "markdown",
   "id": "7acfa8fc",
   "metadata": {},
   "source": [
    "##### Insights:\n",
    "\n",
    "[fill in with your observations from the visualization]"
   ]
  },
  {
   "cell_type": "markdown",
   "id": "0cae87c2",
   "metadata": {},
   "source": [
    "#### Crosstab of average salary grouped by education and industry"
   ]
  },
  {
   "cell_type": "code",
   "execution_count": null,
   "id": "4bdd8071",
   "metadata": {},
   "outputs": [],
   "source": [
    "pd.crosstab(index=df['industry'], columns=df['education'], values=df['salary'], aggfunc=np.mean).round(0)"
   ]
  },
  {
   "cell_type": "markdown",
   "id": "e6521fe3",
   "metadata": {},
   "source": [
    "#### Heatmap of crosstab of average salary grouped by education and industry"
   ]
  },
  {
   "cell_type": "code",
   "execution_count": null,
   "id": "7fd953cb",
   "metadata": {},
   "outputs": [],
   "source": [
    "crosstab = pd.crosstab(index=df['industry'], columns=df['education'], values=df['salary'], aggfunc=np.mean).round(0)"
   ]
  },
  {
   "cell_type": "code",
   "execution_count": null,
   "id": "3ec99c42",
   "metadata": {},
   "outputs": [],
   "source": [
    "plt.figure(figsize=(16,10))\n",
    "\n",
    "ax = sns.heatmap(crosstab, annot=True, linewidths=.5, cmap='YlGnBu', fmt='g', xticklabels=['High School', 'Some College', \"Bachelor's Degree\", \"Master's Degree\"])\n",
    "\n",
    "plt.xlabel(\"Education Level\", fontsize=14)\n",
    "plt.ylabel(\"Industry\", fontsize=14)\n",
    "\n",
    "plt.title(\"Manager Salaries Across Industries by Education Level\", fontsize=18);"
   ]
  },
  {
   "cell_type": "markdown",
   "id": "e9d71198",
   "metadata": {},
   "source": [
    "##### Insights:\n",
    "\n",
    "[fill in with your observations from the visualization]"
   ]
  },
  {
   "cell_type": "markdown",
   "id": "5357875a",
   "metadata": {},
   "source": [
    "### Step 4 - Report Findings"
   ]
  },
  {
   "cell_type": "markdown",
   "id": "38ca8243",
   "metadata": {},
   "source": [
    "###### Along the way throughout this project, you should have been taking notes on insights from your exploratory data analysis. Take some time in a markdown cell below to write a couple paragraphs summarizing any observations, insights, conclusions, or further questions you have based on the exploratory analysis you conducted this week. "
   ]
  },
  {
   "cell_type": "markdown",
   "id": "ff659f58",
   "metadata": {},
   "source": [
    "[...]"
   ]
  },
  {
   "cell_type": "markdown",
   "id": "9272556f",
   "metadata": {},
   "source": [
    "### Step 5 - Submit Project"
   ]
  },
  {
   "cell_type": "markdown",
   "id": "4d42b2c2",
   "metadata": {},
   "source": [
    "###### Push to GitHub, record brief code review video, and share links with Tech Lead and SME. "
   ]
  }
 ],
 "metadata": {
  "kernelspec": {
   "display_name": "Python 3 (ipykernel)",
   "language": "python",
   "name": "python3"
  },
  "language_info": {
   "codemirror_mode": {
    "name": "ipython",
    "version": 3
   },
   "file_extension": ".py",
   "mimetype": "text/x-python",
   "name": "python",
   "nbconvert_exporter": "python",
   "pygments_lexer": "ipython3",
   "version": "3.10.9"
  }
 },
 "nbformat": 4,
 "nbformat_minor": 5
}
